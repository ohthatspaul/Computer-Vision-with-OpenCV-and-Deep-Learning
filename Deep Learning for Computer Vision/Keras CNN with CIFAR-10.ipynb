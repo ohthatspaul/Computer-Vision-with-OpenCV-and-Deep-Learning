{
 "cells": [
  {
   "cell_type": "code",
   "execution_count": 17,
   "metadata": {},
   "outputs": [
    {
     "name": "stdout",
     "output_type": "stream",
     "text": [
      "Model: \"sequential_5\"\n",
      "_________________________________________________________________\n",
      "Layer (type)                 Output Shape              Param #   \n",
      "=================================================================\n",
      "conv2d_9 (Conv2D)            (None, 29, 29, 32)        1568      \n",
      "_________________________________________________________________\n",
      "max_pooling2d_9 (MaxPooling2 (None, 14, 14, 32)        0         \n",
      "_________________________________________________________________\n",
      "conv2d_10 (Conv2D)           (None, 11, 11, 32)        16416     \n",
      "_________________________________________________________________\n",
      "max_pooling2d_10 (MaxPooling (None, 5, 5, 32)          0         \n",
      "_________________________________________________________________\n",
      "flatten_5 (Flatten)          (None, 800)               0         \n",
      "_________________________________________________________________\n",
      "dense_9 (Dense)              (None, 256)               205056    \n",
      "_________________________________________________________________\n",
      "dense_10 (Dense)             (None, 10)                2570      \n",
      "=================================================================\n",
      "Total params: 225,610\n",
      "Trainable params: 225,610\n",
      "Non-trainable params: 0\n",
      "_________________________________________________________________\n"
     ]
    }
   ],
   "source": [
    "import matplotlib.pyplot as plt\n",
    "from keras.datasets import cifar10\n",
    "from keras.utils.np_utils import to_categorical\n",
    "from keras.models import Sequential\n",
    "from keras.layers import Dense, Conv2D, MaxPool2D, Flatten\n",
    "from sklearn.metrics import classification_report\n",
    "\n",
    "\n",
    "\n",
    "#tuple unpacking of the data\n",
    "(x_train, y_train), (x_test,y_test) = cifar10.load_data()\n",
    "\n",
    "#prepocessing: to scale the data\n",
    "x_train = x_train/255\n",
    "x_test = x_test/255\n",
    "\n",
    "#one hot encode\n",
    "y_cat_train = to_categorical(y_train,10)\n",
    "y_cat_test = to_categorical(y_test,10)\n",
    "\n",
    "# networks\n",
    "model = Sequential()\n",
    "\n",
    "#add convolutional layer\n",
    "model.add(Conv2D(filters=32, kernel_size=(4,4), input_shape=(32,32,3), activation='relu'))\n",
    "#pulling layer\n",
    "model.add(MaxPool2D(pool_size=(2,2)))\n",
    "\n",
    "##Add another convolutional layer as below because the images are more complex:\n",
    "#add convolutional layer\n",
    "model.add(Conv2D(filters=32, kernel_size=(4,4), input_shape=(32,32,3), activation='relu'))\n",
    "#pulling layer\n",
    "model.add(MaxPool2D(pool_size=(2,2)))\n",
    "\n",
    "#Flatten the images\n",
    "model.add(Flatten())\n",
    "\n",
    "#add in neurons in the dense hidden layer\n",
    "model.add(Dense(256,activation='relu'))\n",
    "\n",
    "#classifier as the last layer\n",
    "model.add(Dense(10, activation='softmax'))\n",
    "\n",
    "#Compile model\n",
    "model.compile(loss='categorical_crossentropy', optimizer='rmsprop', metrics=['accuracy'])\n",
    "\n",
    "model.summary()\n",
    "\n"
   ]
  },
  {
   "cell_type": "code",
   "execution_count": 18,
   "metadata": {},
   "outputs": [
    {
     "name": "stdout",
     "output_type": "stream",
     "text": [
      "Epoch 1/10\n",
      "50000/50000 [==============================] - 31s 622us/step - loss: 1.5146 - accuracy: 0.4568\n",
      "Epoch 2/10\n",
      "50000/50000 [==============================] - 33s 652us/step - loss: 1.1585 - accuracy: 0.5966\n",
      "Epoch 3/10\n",
      "50000/50000 [==============================] - 35s 696us/step - loss: 1.0056 - accuracy: 0.6489\n",
      "Epoch 4/10\n",
      "50000/50000 [==============================] - 33s 666us/step - loss: 0.8985 - accuracy: 0.6907\n",
      "Epoch 5/10\n",
      "50000/50000 [==============================] - 32s 648us/step - loss: 0.8126 - accuracy: 0.7216\n",
      "Epoch 6/10\n",
      "50000/50000 [==============================] - 33s 651us/step - loss: 0.7526 - accuracy: 0.7423\n",
      "Epoch 7/10\n",
      "50000/50000 [==============================] - 33s 654us/step - loss: 0.7038 - accuracy: 0.7616\n",
      "Epoch 8/10\n",
      "50000/50000 [==============================] - 33s 652us/step - loss: 0.6586 - accuracy: 0.7792\n",
      "Epoch 9/10\n",
      "50000/50000 [==============================] - 33s 654us/step - loss: 0.6267 - accuracy: 0.7871\n",
      "Epoch 10/10\n",
      "50000/50000 [==============================] - 33s 655us/step - loss: 0.5971 - accuracy: 0.8013\n"
     ]
    },
    {
     "data": {
      "text/plain": [
       "<keras.callbacks.callbacks.History at 0x1d91e214400>"
      ]
     },
     "execution_count": 18,
     "metadata": {},
     "output_type": "execute_result"
    }
   ],
   "source": [
    "#fit the model\n",
    "model.fit(x_train, y_cat_train, verbose=1, epochs=10)\n"
   ]
  },
  {
   "cell_type": "code",
   "execution_count": 19,
   "metadata": {},
   "outputs": [
    {
     "name": "stdout",
     "output_type": "stream",
     "text": [
      "10000/10000 [==============================] - 2s 161us/step\n"
     ]
    },
    {
     "data": {
      "text/plain": [
       "[1.165499751663208, 0.6621000170707703]"
      ]
     },
     "execution_count": 19,
     "metadata": {},
     "output_type": "execute_result"
    }
   ],
   "source": [
    "#evaluate on the test set\n",
    "model.evaluate(x_test,y_cat_test)\n",
    "\n"
   ]
  },
  {
   "cell_type": "code",
   "execution_count": 20,
   "metadata": {},
   "outputs": [
    {
     "name": "stdout",
     "output_type": "stream",
     "text": [
      "              precision    recall  f1-score   support\n",
      "\n",
      "           0       0.76      0.58      0.66      1000\n",
      "           1       0.63      0.90      0.74      1000\n",
      "           2       0.61      0.53      0.57      1000\n",
      "           3       0.46      0.58      0.51      1000\n",
      "           4       0.61      0.66      0.63      1000\n",
      "           5       0.63      0.53      0.57      1000\n",
      "           6       0.69      0.79      0.74      1000\n",
      "           7       0.81      0.61      0.69      1000\n",
      "           8       0.76      0.77      0.77      1000\n",
      "           9       0.81      0.68      0.74      1000\n",
      "\n",
      "    accuracy                           0.66     10000\n",
      "   macro avg       0.68      0.66      0.66     10000\n",
      "weighted avg       0.68      0.66      0.66     10000\n",
      "\n"
     ]
    }
   ],
   "source": [
    "#classification report\n",
    "predictions = model.predict_classes(x_test)\n",
    "\n",
    "#print classification report\n",
    "print(classification_report(y_test, predictions))"
   ]
  },
  {
   "cell_type": "code",
   "execution_count": null,
   "metadata": {},
   "outputs": [],
   "source": []
  }
 ],
 "metadata": {
  "kernelspec": {
   "display_name": "Python 3",
   "language": "python",
   "name": "python3"
  },
  "language_info": {
   "codemirror_mode": {
    "name": "ipython",
    "version": 3
   },
   "file_extension": ".py",
   "mimetype": "text/x-python",
   "name": "python",
   "nbconvert_exporter": "python",
   "pygments_lexer": "ipython3",
   "version": "3.6.10"
  }
 },
 "nbformat": 4,
 "nbformat_minor": 4
}
