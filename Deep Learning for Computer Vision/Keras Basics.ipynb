{
 "cells": [
  {
   "cell_type": "code",
   "execution_count": 31,
   "metadata": {},
   "outputs": [
    {
     "name": "stdout",
     "output_type": "stream",
     "text": [
      "Epoch 1/50\n",
      " - 0s - loss: 0.6762 - accuracy: 0.5495\n",
      "Epoch 2/50\n",
      " - 0s - loss: 0.6681 - accuracy: 0.5495\n",
      "Epoch 3/50\n",
      " - 0s - loss: 0.6604 - accuracy: 0.5495\n",
      "Epoch 4/50\n",
      " - 0s - loss: 0.6520 - accuracy: 0.5517\n",
      "Epoch 5/50\n",
      " - 0s - loss: 0.6422 - accuracy: 0.5604\n",
      "Epoch 6/50\n",
      " - 0s - loss: 0.6302 - accuracy: 0.5637\n",
      "Epoch 7/50\n",
      " - 0s - loss: 0.6162 - accuracy: 0.6017\n",
      "Epoch 8/50\n",
      " - 0s - loss: 0.5995 - accuracy: 0.7530\n",
      "Epoch 9/50\n",
      " - 0s - loss: 0.5795 - accuracy: 0.7911\n",
      "Epoch 10/50\n",
      " - 0s - loss: 0.5569 - accuracy: 0.8390\n",
      "Epoch 11/50\n",
      " - 0s - loss: 0.5323 - accuracy: 0.8411\n",
      "Epoch 12/50\n",
      " - 0s - loss: 0.5095 - accuracy: 0.8444\n",
      "Epoch 13/50\n",
      " - 0s - loss: 0.4844 - accuracy: 0.8487\n",
      "Epoch 14/50\n",
      " - 0s - loss: 0.4604 - accuracy: 0.8770\n",
      "Epoch 15/50\n",
      " - 0s - loss: 0.4385 - accuracy: 0.8629\n",
      "Epoch 16/50\n",
      " - 0s - loss: 0.4166 - accuracy: 0.8825\n",
      "Epoch 17/50\n",
      " - 0s - loss: 0.3961 - accuracy: 0.8966\n",
      "Epoch 18/50\n",
      " - 0s - loss: 0.3765 - accuracy: 0.8955\n",
      "Epoch 19/50\n",
      " - 0s - loss: 0.3578 - accuracy: 0.8999\n",
      "Epoch 20/50\n",
      " - 0s - loss: 0.3392 - accuracy: 0.9075\n",
      "Epoch 21/50\n",
      " - 0s - loss: 0.3226 - accuracy: 0.9064\n",
      "Epoch 22/50\n",
      " - 0s - loss: 0.3079 - accuracy: 0.9129\n",
      "Epoch 23/50\n",
      " - 0s - loss: 0.2914 - accuracy: 0.9140\n",
      "Epoch 24/50\n",
      " - 0s - loss: 0.2778 - accuracy: 0.9217\n",
      "Epoch 25/50\n",
      " - 0s - loss: 0.2641 - accuracy: 0.9293\n",
      "Epoch 26/50\n",
      " - 0s - loss: 0.2525 - accuracy: 0.9282\n",
      "Epoch 27/50\n",
      " - 0s - loss: 0.2414 - accuracy: 0.9391\n",
      "Epoch 28/50\n",
      " - 0s - loss: 0.2302 - accuracy: 0.9412\n",
      "Epoch 29/50\n",
      " - 0s - loss: 0.2206 - accuracy: 0.9423\n",
      "Epoch 30/50\n",
      " - 0s - loss: 0.2109 - accuracy: 0.9467\n",
      "Epoch 31/50\n",
      " - 0s - loss: 0.2024 - accuracy: 0.9456\n",
      "Epoch 32/50\n",
      " - 0s - loss: 0.1936 - accuracy: 0.9456\n",
      "Epoch 33/50\n",
      " - 0s - loss: 0.1860 - accuracy: 0.9456\n",
      "Epoch 34/50\n",
      " - 0s - loss: 0.1784 - accuracy: 0.9456\n",
      "Epoch 35/50\n",
      " - 0s - loss: 0.1717 - accuracy: 0.9521\n",
      "Epoch 36/50\n",
      " - 0s - loss: 0.1652 - accuracy: 0.9543\n",
      "Epoch 37/50\n",
      " - 0s - loss: 0.1583 - accuracy: 0.9565\n",
      "Epoch 38/50\n",
      " - 0s - loss: 0.1545 - accuracy: 0.9532\n",
      "Epoch 39/50\n",
      " - 0s - loss: 0.1473 - accuracy: 0.9565\n",
      "Epoch 40/50\n",
      " - 0s - loss: 0.1426 - accuracy: 0.9576\n",
      "Epoch 41/50\n",
      " - 0s - loss: 0.1379 - accuracy: 0.9587\n",
      "Epoch 42/50\n",
      " - 0s - loss: 0.1345 - accuracy: 0.9608\n",
      "Epoch 43/50\n",
      " - 0s - loss: 0.1280 - accuracy: 0.9619\n",
      "Epoch 44/50\n",
      " - 0s - loss: 0.1240 - accuracy: 0.9641\n",
      "Epoch 45/50\n",
      " - 0s - loss: 0.1199 - accuracy: 0.9684\n",
      "Epoch 46/50\n",
      " - 0s - loss: 0.1158 - accuracy: 0.9674\n",
      "Epoch 47/50\n",
      " - 0s - loss: 0.1126 - accuracy: 0.9728\n",
      "Epoch 48/50\n",
      " - 0s - loss: 0.1086 - accuracy: 0.9728\n",
      "Epoch 49/50\n",
      " - 0s - loss: 0.1053 - accuracy: 0.9750\n",
      "Epoch 50/50\n",
      " - 0s - loss: 0.1024 - accuracy: 0.9782\n"
     ]
    },
    {
     "data": {
      "text/plain": [
       "<keras.callbacks.callbacks.History at 0x291f06d9630>"
      ]
     },
     "execution_count": 31,
     "metadata": {},
     "output_type": "execute_result"
    }
   ],
   "source": [
    "import numpy as np\n",
    "from numpy import genfromtxt\n",
    "from sklearn.model_selection import train_test_split\n",
    "from sklearn.preprocessing import MinMaxScaler\n",
    "from keras.models import Sequential\n",
    "from keras.layers import Dense\n",
    "from sklearn.metrics import confusion_matrix, classification_report\n",
    "\n",
    "data = genfromtxt('../DATA/bank_note_data.txt', delimiter = ',')\n",
    "\n",
    "#seperate the labels from the actual features\n",
    "labels = data[:,4]\n",
    "\n",
    "#grab the features\n",
    "features = data[:,0:4]\n",
    "\n",
    "X = features\n",
    "y =labels\n",
    "\n",
    "#split the data into the training and test set\n",
    "\n",
    "X_train, X_test, y_train, y_test = train_test_split(X, y, test_size=0.33, random_state=42)\n",
    "\n",
    "#standardize/scale the data\n",
    "scaler_object = MinMaxScaler()\n",
    "\n",
    "#fit the object into our training data\n",
    "scaler_object.fit(X_train)\n",
    "\n",
    "#perfrom a transform\n",
    "scaled_X_train =  scaler_object.transform(X_train)\n",
    "scaled_X_test = scaler_object.transform(X_test)\n",
    "\n",
    "#build a network with Keras\n",
    "\n",
    "model =  Sequential() #creates the model\n",
    "#add in the layers\n",
    "model.add(Dense(4,input_dim=4, activation='relu'))\n",
    "model.add(Dense(8,activation='relu'))#(hidden)layer in the middle of the neuron\n",
    "model.add(Dense(1,activation='sigmoid'))\n",
    "\n",
    "#Compile the model: chose loss, optimizer and matrics we are concerned with during fitting\n",
    "model.compile(loss='binary_crossentropy',optimizer='adam',metrics=['accuracy'])\n",
    "\n",
    "#fit/train the model\n",
    "model.fit(scaled_X_train, y_train, epochs=50,verbose=2)\n",
    "\n"
   ]
  },
  {
   "cell_type": "code",
   "execution_count": 32,
   "metadata": {},
   "outputs": [
    {
     "data": {
      "text/plain": [
       "array([[256,   1],\n",
       "       [  7, 189]], dtype=int64)"
      ]
     },
     "execution_count": 32,
     "metadata": {},
     "output_type": "execute_result"
    }
   ],
   "source": [
    "#predict on new data\n",
    "predictions = model.predict_classes(scaled_X_test)\n",
    "\n",
    "\n",
    "#Evaluate the model\n",
    "confusion_matrix(y_test,predictions)\n"
   ]
  },
  {
   "cell_type": "code",
   "execution_count": 33,
   "metadata": {},
   "outputs": [
    {
     "name": "stdout",
     "output_type": "stream",
     "text": [
      "              precision    recall  f1-score   support\n",
      "\n",
      "         0.0       0.97      1.00      0.98       257\n",
      "         1.0       0.99      0.96      0.98       196\n",
      "\n",
      "    accuracy                           0.98       453\n",
      "   macro avg       0.98      0.98      0.98       453\n",
      "weighted avg       0.98      0.98      0.98       453\n",
      "\n"
     ]
    }
   ],
   "source": [
    "print(classification_report(y_test,predictions))"
   ]
  },
  {
   "cell_type": "code",
   "execution_count": 34,
   "metadata": {},
   "outputs": [],
   "source": [
    "# #save model\n",
    "# model.save('supermodel.h5')"
   ]
  },
  {
   "cell_type": "code",
   "execution_count": null,
   "metadata": {},
   "outputs": [],
   "source": [
    "# #load model\n",
    "# from keras.models import load_model\n",
    "# newmodel = load_model('mysupermodel.h5')"
   ]
  }
 ],
 "metadata": {
  "kernelspec": {
   "display_name": "Python 3",
   "language": "python",
   "name": "python3"
  },
  "language_info": {
   "codemirror_mode": {
    "name": "ipython",
    "version": 3
   },
   "file_extension": ".py",
   "mimetype": "text/x-python",
   "name": "python",
   "nbconvert_exporter": "python",
   "pygments_lexer": "ipython3",
   "version": "3.6.10"
  }
 },
 "nbformat": 4,
 "nbformat_minor": 4
}
