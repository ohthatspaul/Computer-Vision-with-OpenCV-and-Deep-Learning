{
 "cells": [
  {
   "cell_type": "code",
   "execution_count": 49,
   "metadata": {},
   "outputs": [
    {
     "name": "stdout",
     "output_type": "stream",
     "text": [
      "Model: \"sequential_12\"\n",
      "_________________________________________________________________\n",
      "Layer (type)                 Output Shape              Param #   \n",
      "=================================================================\n",
      "conv2d_32 (Conv2D)           (None, 148, 148, 32)      896       \n",
      "_________________________________________________________________\n",
      "max_pooling2d_31 (MaxPooling (None, 74, 74, 32)        0         \n",
      "_________________________________________________________________\n",
      "conv2d_33 (Conv2D)           (None, 72, 72, 64)        18496     \n",
      "_________________________________________________________________\n",
      "max_pooling2d_32 (MaxPooling (None, 36, 36, 64)        0         \n",
      "_________________________________________________________________\n",
      "conv2d_34 (Conv2D)           (None, 34, 34, 64)        36928     \n",
      "_________________________________________________________________\n",
      "max_pooling2d_33 (MaxPooling (None, 17, 17, 64)        0         \n",
      "_________________________________________________________________\n",
      "flatten_11 (Flatten)         (None, 18496)             0         \n",
      "_________________________________________________________________\n",
      "dense_12 (Dense)             (None, 128)               2367616   \n",
      "_________________________________________________________________\n",
      "activation_12 (Activation)   (None, 128)               0         \n",
      "_________________________________________________________________\n",
      "dropout_6 (Dropout)          (None, 128)               0         \n",
      "_________________________________________________________________\n",
      "dense_13 (Dense)             (None, 1)                 129       \n",
      "_________________________________________________________________\n",
      "activation_13 (Activation)   (None, 1)                 0         \n",
      "=================================================================\n",
      "Total params: 2,424,065\n",
      "Trainable params: 2,424,065\n",
      "Non-trainable params: 0\n",
      "_________________________________________________________________\n"
     ]
    }
   ],
   "source": [
    "import cv2\n",
    "import numpy as np\n",
    "import matplotlib.pyplot as plt\n",
    "%matplotlib inline\n",
    "\n",
    "from keras.preprocessing.image import ImageDataGenerator\n",
    "from keras.models import Sequential\n",
    "from keras.layers import Activation, Dropout, Flatten, Conv2D, MaxPooling2D, Dense\n",
    "from keras.preprocessing import image\n",
    "\n",
    "image_gen = ImageDataGenerator(rotation_range=30, width_shift_range=0.1,\n",
    "                              height_shift_range=0.1, rescale=1/255,\n",
    "                              shear_range=0.2, zoom_range=0.2,\n",
    "                              horizontal_flip=True, fill_mode='nearest')\n",
    "\n",
    "\n",
    "\n",
    "input_shape = (150,150,3)\n",
    " #create the model\n",
    "model = Sequential()\n",
    "\n",
    "#add in layers:1\n",
    "model.add(Conv2D(filters=32, kernel_size=(3,3), input_shape=input_shape, activation='relu'))\n",
    "model.add(MaxPooling2D(pool_size=(2,2)))\n",
    "\n",
    "#add in layers:2\n",
    "model.add(Conv2D(filters=64, kernel_size=(3,3), input_shape=input_shape, activation='relu'))\n",
    "model.add(MaxPooling2D(pool_size=(2,2)))\n",
    "\n",
    "#add in layers:3\n",
    "model.add(Conv2D(filters=64, kernel_size=(3,3), input_shape=input_shape, activation='relu'))\n",
    "model.add(MaxPooling2D(pool_size=(2,2)))\n",
    "\n",
    "\n",
    "model.add(Flatten())\n",
    "\n",
    "model.add(Dense(128))\n",
    "model.add(Activation('relu')) #you can swap out different activations here\n",
    "\n",
    "#add dropout to reduce overfitting\n",
    "model.add(Dropout(0.5))\n",
    "\n",
    "#add last output. Here it's just one neuron because this is binary target class (0->cat or 1->dog)\n",
    "model.add(Dense(1))\n",
    "model.add(Activation('sigmoid'))\n",
    "\n",
    "model.compile(loss='binary_crossentropy', optimizer='adam',\n",
    "             metrics=['accuracy'])\n",
    "\n",
    "model.summary()\n",
    "\n",
    "\n",
    "\n"
   ]
  },
  {
   "cell_type": "code",
   "execution_count": 30,
   "metadata": {},
   "outputs": [
    {
     "name": "stdout",
     "output_type": "stream",
     "text": [
      "Found 2000 images belonging to 2 classes.\n",
      "Found 1000 images belonging to 2 classes.\n"
     ]
    }
   ],
   "source": [
    "#train the model\n",
    "batch_size = 16\n",
    "#generate many manipulated images directly from the directory\n",
    "train_image_gen = image_gen.flow_from_directory('../DATA/CATS_DOGS/train',\n",
    "                                                target_size=input_shape[:2],\n",
    "                                               batch_size=batch_size,\n",
    "                                               class_mode='binary')\n",
    "\n",
    "\n",
    "#generate many manipulated images directly from the directory\n",
    "test_image_gen = image_gen.flow_from_directory('../DATA/CATS_DOGS/test',\n",
    "                                                target_size=input_shape[:2],\n",
    "                                               batch_size=batch_size,\n",
    "                                               class_mode='binary')\n"
   ]
  },
  {
   "cell_type": "code",
   "execution_count": 31,
   "metadata": {},
   "outputs": [
    {
     "data": {
      "text/plain": [
       "{'cats': 0, 'dogs': 1}"
      ]
     },
     "execution_count": 31,
     "metadata": {},
     "output_type": "execute_result"
    }
   ],
   "source": [
    "train_image_gen.class_indices"
   ]
  },
  {
   "cell_type": "code",
   "execution_count": 35,
   "metadata": {},
   "outputs": [
    {
     "name": "stdout",
     "output_type": "stream",
     "text": [
      "Epoch 1/1\n",
      "150/150 [==============================] - 62s 413ms/step - loss: 0.6974 - accuracy: 0.5058 - val_loss: 0.6953 - val_accuracy: 0.6354\n"
     ]
    }
   ],
   "source": [
    "result = model.fit_generator(train_image_gen,epochs=1, steps_per_epoch=150,\n",
    "                             validation_data=test_image_gen,validation_steps=12)"
   ]
  },
  {
   "cell_type": "code",
   "execution_count": 38,
   "metadata": {},
   "outputs": [
    {
     "data": {
      "text/plain": [
       "[0.6354166865348816]"
      ]
     },
     "execution_count": 38,
     "metadata": {},
     "output_type": "execute_result"
    }
   ],
   "source": [
    "#evaluate the model\n",
    "result.history['val_accuracy']"
   ]
  },
  {
   "cell_type": "code",
   "execution_count": 53,
   "metadata": {},
   "outputs": [
    {
     "data": {
      "text/plain": [
       "array([[1]])"
      ]
     },
     "execution_count": 53,
     "metadata": {},
     "output_type": "execute_result"
    }
   ],
   "source": [
    "#predict on new images\n",
    "dog_file = '../DATA/CATS_DOGS/test/dogs/dog.1506.jpg'\n",
    "\n",
    "#resize the image that the neural network expects it in\n",
    "dog_img = image.load_img(dog_file, target_size=(150,150))\n",
    "\n",
    "#turn image into and array\n",
    "dog_img = image.img_to_array(dog_img)\n",
    "\n",
    "#dog_img.shape = (150, 150, 3) :change this so that the neural netwok thinks its a batch on 1 image\n",
    "#so we need the dimensions to be 1,150,150,3\n",
    "\n",
    "dog_img = np.expand_dims(dog_img,axis=0)\n",
    "\n",
    "#make sure all the values are between 0 and 1\n",
    "dog_img = dog_img/255\n",
    "\n",
    "model.predict_classes(dog_img)\n"
   ]
  },
  {
   "cell_type": "code",
   "execution_count": 54,
   "metadata": {},
   "outputs": [
    {
     "data": {
      "text/plain": [
       "array([[0.5342044]], dtype=float32)"
      ]
     },
     "execution_count": 54,
     "metadata": {},
     "output_type": "execute_result"
    }
   ],
   "source": [
    "#check how sure it was\n",
    "model.predict(dog_img)"
   ]
  },
  {
   "cell_type": "code",
   "execution_count": null,
   "metadata": {},
   "outputs": [],
   "source": []
  }
 ],
 "metadata": {
  "kernelspec": {
   "display_name": "Python 3",
   "language": "python",
   "name": "python3"
  },
  "language_info": {
   "codemirror_mode": {
    "name": "ipython",
    "version": 3
   },
   "file_extension": ".py",
   "mimetype": "text/x-python",
   "name": "python",
   "nbconvert_exporter": "python",
   "pygments_lexer": "ipython3",
   "version": "3.6.10"
  }
 },
 "nbformat": 4,
 "nbformat_minor": 4
}
