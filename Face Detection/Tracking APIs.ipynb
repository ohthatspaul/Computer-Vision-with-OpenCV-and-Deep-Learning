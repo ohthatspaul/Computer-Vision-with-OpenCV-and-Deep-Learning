{
 "cells": [
  {
   "cell_type": "code",
   "execution_count": 4,
   "metadata": {},
   "outputs": [
    {
     "name": "stdout",
     "output_type": "stream",
     "text": [
      "Welcome! What Tracker API would you like to use?  \n",
      " \n",
      "Enter 0 for Boosting: \n",
      "Enter 1 for MIL: \n",
      "Enter 2 for KCF: \n",
      "Enter 3 for TLD: \n",
      "Enter 4 for MEADIANFLOW: \n"
     ]
    },
    {
     "name": "stdin",
     "output_type": "stream",
     "text": [
      "Please select your tracker:  3\n"
     ]
    }
   ],
   "source": [
    "import cv2\n",
    "\n",
    "#function to select a tracker given the input\n",
    "def ask_for_tracker():\n",
    "    print(\"Welcome! What Tracker API would you like to use?  \\n \")\n",
    "    print(\"Enter 0 for Boosting: \")\n",
    "    print(\"Enter 1 for MIL: \")\n",
    "    print(\"Enter 2 for KCF: \")\n",
    "    print(\"Enter 3 for TLD: \")\n",
    "    print(\"Enter 4 for MEADIANFLOW: \")\n",
    "    \n",
    "    choice = input(\"Please select your tracker: \")\n",
    "    \n",
    "    if choice =='0':\n",
    "        tracker = cv2.TrackerBoosting_create()\n",
    "    if choice == '1':\n",
    "        tracker = cv2.TrackerMIL_create()\n",
    "    if choice == '2':\n",
    "        tracker = cv2.TrackerKCF_create()\n",
    "    if choice == '3':\n",
    "        tracker = cv2.TrackerTLD_create()\n",
    "    if choice =='4':\n",
    "        tracker = cv2.TrackerTLD_create()\n",
    "    \n",
    "    return tracker\n",
    "    \n",
    "tracker = ask_for_tracker()\n",
    "\n",
    "tracker_name = str(tracker).split()[0][1:]\n",
    "#read the video\n",
    "cap = cv2.VideoCapture(0)\n",
    "\n",
    "#read first frame\n",
    "ret, frame = cap.read()\n",
    "\n",
    "#special function allows us to draw on the very first frame our desired ROI\n",
    "roi = cv2.selectROI(frame, False)\n",
    "\n",
    "#Initialize the tracker with the first frame and bounding box\n",
    "ret = tracker.init(frame, roi)\n",
    "\n",
    "while True:\n",
    "    #read a new frame\n",
    "    ret, frame = cap.read()\n",
    "    \n",
    "    #update tracker: succefully update tracker\n",
    "    success, roi = tracker.update(frame)\n",
    "    \n",
    "    #roi variable is a tuple of 4 floats\n",
    "    #we need each value as integers\n",
    "    (x,y,w,h) = tuple(map(int,roi))\n",
    "    \n",
    "    #Draw rectanlge as tracker moves\n",
    "    if success:\n",
    "        #traking success\n",
    "        point1 = (x,y)\n",
    "        point2 = (x+w, y+h)\n",
    "        cv2.rectangle(frame,point1,point2,(0,255,0),5)\n",
    "    else:\n",
    "        #tracking failure\n",
    "        cv2.putText(frame,\"Failure to Detect Tracking!\",(100,200),\n",
    "                    cv2.FONT_HERSHEY_SIMPLEX,1,(0,255,0),3)\n",
    "        \n",
    "    #Display tracker type on frame\n",
    "    cv2.putText(frame,tracker_name,(20,400),cv2.FONT_HERSHEY_SIMPLEX,1,(0,255,0),3)\n",
    "    \n",
    "    #Display result\n",
    "    cv2.imshow(tracker_name,frame)\n",
    "    \n",
    "    #Exit if Esc key is pressed\n",
    "    k = cv2.waitKey(1) & 0xFF\n",
    "    if k == 27:\n",
    "        break\n",
    "        \n",
    "cap.release()\n",
    "cv2.destroyAllWindows()\n",
    "        \n",
    "    "
   ]
  },
  {
   "cell_type": "code",
   "execution_count": null,
   "metadata": {},
   "outputs": [],
   "source": []
  }
 ],
 "metadata": {
  "kernelspec": {
   "display_name": "Python 3",
   "language": "python",
   "name": "python3"
  },
  "language_info": {
   "codemirror_mode": {
    "name": "ipython",
    "version": 3
   },
   "file_extension": ".py",
   "mimetype": "text/x-python",
   "name": "python",
   "nbconvert_exporter": "python",
   "pygments_lexer": "ipython3",
   "version": "3.6.10"
  }
 },
 "nbformat": 4,
 "nbformat_minor": 4
}
