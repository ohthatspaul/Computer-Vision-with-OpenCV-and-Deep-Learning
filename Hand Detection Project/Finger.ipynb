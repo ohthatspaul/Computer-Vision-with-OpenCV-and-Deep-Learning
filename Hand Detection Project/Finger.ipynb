{
 "cells": [
  {
   "cell_type": "code",
   "execution_count": 1,
   "metadata": {},
   "outputs": [],
   "source": [
    "import cv2\n",
    "import numpy as np\n",
    "from sklearn.metrics import pairwise\n",
    "\n",
    "#global variables\n",
    "background = None\n",
    "accumulated_weight = 0.5\n",
    "roi_top = 20\n",
    "roi_bottom = 300\n",
    "roi_right = 300\n",
    "roi_left = 600\n",
    "\n",
    "#find the average background value\n",
    "def calc_accum_avg(frame, accumulated_weight):\n",
    "    global background\n",
    "    if background is None:\n",
    "        background = frame.copy().astype('float')\n",
    "        return None\n",
    "    \n",
    "    '''     \n",
    "    The function below calculates the weighted sum of the input image src and the accumulator dst so that dst\n",
    ".   becomes a running average of a frame sequence. It accumates weight based off the running average. \n",
    "'''\n",
    "    cv2.accumulateWeighted(frame, background, accumulated_weight)"
   ]
  }
 ],
 "metadata": {
  "kernelspec": {
   "display_name": "Python 3",
   "language": "python",
   "name": "python3"
  },
  "language_info": {
   "codemirror_mode": {
    "name": "ipython",
    "version": 3
   },
   "file_extension": ".py",
   "mimetype": "text/x-python",
   "name": "python",
   "nbconvert_exporter": "python",
   "pygments_lexer": "ipython3",
   "version": "3.6.10"
  }
 },
 "nbformat": 4,
 "nbformat_minor": 4
}
