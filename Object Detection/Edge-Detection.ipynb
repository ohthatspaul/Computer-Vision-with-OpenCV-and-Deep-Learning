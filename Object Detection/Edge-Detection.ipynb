{
 "cells": [
  {
   "cell_type": "code",
   "execution_count": 13,
   "metadata": {},
   "outputs": [
    {
     "data": {
      "text/plain": [
       "<matplotlib.image.AxesImage at 0x2ab48c95f60>"
      ]
     },
     "execution_count": 13,
     "metadata": {},
     "output_type": "execute_result"
    },
    {
     "data": {
      "image/png": "[encoded data removed]",
      "text/plain": [
       "<Figure size 432x288 with 1 Axes>"
      ]
     },
     "metadata": {
      "needs_background": "light"
     },
     "output_type": "display_data"
    }
   ],
   "source": [
    "import cv2\n",
    "import numpy as np\n",
    "import matplotlib.pyplot as plt\n",
    "%matplotlib inline \n",
    "\n",
    "dog_face = cv2.imread('../DATA/sammy_face.jpg')\n",
    "\n",
    "'''Formula for choosing threshold:'''\n",
    "median_value = np.median(dog_face)\n",
    "#set lower limit threshold to either 0 or 70% of the median value whichever is greater\n",
    "lower = int(max(0,0.7*median_value))\n",
    "#set upper limit threshold to either 130% of the median or the max value of 255, whichever is lower\n",
    "upper = int(min(255,1.3*median_value))\n",
    "\n",
    "\n",
    "#blur the image\n",
    "blurred_img =  cv2.blur(dog_face,ksize=(5,5))\n",
    "\n",
    "#Play around with the values until you see something satisfactory\n",
    "edges = cv2.Canny(image= blurred_img, threshold1=lower,threshold2=upper+145)\n",
    "plt.imshow(edges)"
   ]
  },
  {
   "cell_type": "code",
   "execution_count": null,
   "metadata": {},
   "outputs": [],
   "source": []
  }
 ],
 "metadata": {
  "kernelspec": {
   "display_name": "Python 3",
   "language": "python",
   "name": "python3"
  },
  "language_info": {
   "codemirror_mode": {
    "name": "ipython",
    "version": 3
   },
   "file_extension": ".py",
   "mimetype": "text/x-python",
   "name": "python",
   "nbconvert_exporter": "python",
   "pygments_lexer": "ipython3",
   "version": "3.6.6"
  }
 },
 "nbformat": 4,
 "nbformat_minor": 2
}
